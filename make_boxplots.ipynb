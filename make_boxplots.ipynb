{
 "cells": [
  {
   "cell_type": "markdown",
   "id": "domestic-senegal",
   "metadata": {},
   "source": [
    "# Election results with barycenter labeling\n",
    "This notebook creates vote share boxplots by labeled district using and ensemble and its barycenter. \n",
    "Inputs required: \n",
    "- a shapefile or graph\n",
    "- an ensemble saved as a list of assignment dictionaries\n",
    "- barycenter and indexings for this ensemble\n",
    "\n",
    "Example inputs for Iowa are included in this repo."
   ]
  },
  {
   "cell_type": "code",
   "execution_count": 1,
   "id": "corresponding-fault",
   "metadata": {},
   "outputs": [],
   "source": [
    "import matplotlib.pyplot as plt\n",
    "import geopandas as gpd\n",
    "from gerrychain import Graph, Partition, updaters, Election\n",
    "import pickle\n",
    "import numpy as np\n",
    "from collections import defaultdict\n",
    "from scipy.optimize import linear_sum_assignment as LSA\n",
    "import littlehelpers\n",
    "import numpy as np\n",
    "import matplotlib.pyplot as plt\n",
    "import random\n",
    "import geopandas as gpd\n",
    "from collections import defaultdict\n",
    "from higher_bary import find_barycenter, planar_discrete_barycenter, planar_discrete_distance, k_means, match_to_mean"
   ]
  },
  {
   "cell_type": "code",
   "execution_count": 2,
   "id": "cultural-justice",
   "metadata": {},
   "outputs": [],
   "source": [
    "def plot_discrete_distribution(mu, ax=None, **kwargs):\n",
    "    if ax==None:\n",
    "        ax=plt.gca()\n",
    "    ax.scatter(\n",
    "        [x[0] for x in mu],\n",
    "        [x[1] for x in mu],\n",
    "        **kwargs\n",
    "    )\n",
    "def plot_distribution_family(mus, cmap=None, ax=None, **kwargs):\n",
    "    '''\n",
    "    mus is a list of discrete distribution\n",
    "    '''\n",
    "    if cmap is None:\n",
    "        my_cmap = plt.get_cmap('tab20')\n",
    "    else:\n",
    "        my_cmap = cmap\n",
    "    for i, mu in enumerate(mus):\n",
    "        plot_discrete_distribution(mu, c=np.array([my_cmap(i)]), ax=ax, **kwargs)"
   ]
  },
  {
   "cell_type": "markdown",
   "id": "homeless-compiler",
   "metadata": {},
   "source": [
    "## Inputs"
   ]
  },
  {
   "cell_type": "code",
   "execution_count": 3,
   "id": "animal-decision",
   "metadata": {},
   "outputs": [
    {
     "name": "stderr",
     "output_type": "stream",
     "text": [
      "/opt/miniconda3/envs/work38/lib/python3.8/site-packages/gerrychain/graph/graph.py:162: UserWarning: Geometry is in a geographic CRS. Results from 'area' are likely incorrect. Use 'GeoSeries.to_crs()' to re-project geometries to a projected CRS before this operation.\n",
      "\n",
      "  areas = df.geometry.area.to_dict()\n"
     ]
    }
   ],
   "source": [
    "#graph = Graph.from_json('') \n",
    "graph = Graph.from_file('IA_counties/IA_counties.shp') #replace this with the line above if you have a .json already\n",
    "gdf = gpd.read_file('IA_counties/IA_counties.shp')\n",
    "gdf = gdf.to_crs('epsg:2794') #projection which should match the projection used during sampling"
   ]
  },
  {
   "cell_type": "code",
   "execution_count": 4,
   "id": "rapid-cargo",
   "metadata": {},
   "outputs": [],
   "source": [
    "plans = pickle.load(open('IA_results/parts_k4.p', 'rb')) #pre-saved plans\n",
    "B = np.load(\"IA_results/barycenters_k4_M40_n1000.npy\")[0][0] #barycenter\n",
    "I = np.load(\"IA_results/indexings_k4_M40_n1000.npy\")[0] #indexings\n",
    "election_name = 'PRES16' #choose whatever name you like here\n",
    "election_columns = ['PRES16D', 'PRES16R'] #dem and rep vote columns on gdf"
   ]
  },
  {
   "cell_type": "markdown",
   "id": "minor-project",
   "metadata": {},
   "source": [
    "## Make the box plots"
   ]
  },
  {
   "cell_type": "code",
   "execution_count": 5,
   "id": "meaningful-bishop",
   "metadata": {},
   "outputs": [],
   "source": [
    "elections = [\n",
    "    Election(\n",
    "        election_name,\n",
    "        {\"Democratic\": election_columns[0], \"Republican\": election_columns[1]},\n",
    "    )\n",
    "]\n",
    "myupdaters = {election.name: election for election in elections}\n",
    "k = max(plans[0].values())+1"
   ]
  },
  {
   "cell_type": "code",
   "execution_count": 6,
   "id": "center-fourth",
   "metadata": {},
   "outputs": [],
   "source": [
    "canonical_orders = {}\n",
    "vote_shares = {}\n",
    "\n",
    "#reindex plans to the barycenter\n",
    "reindexed_plans = []\n",
    "for p, indexing in zip(plans, I):\n",
    "    plan_to_mean = {x:i for i, x in enumerate(indexing)}\n",
    "    reindexed_plan = {x:plan_to_mean[y] for x,y in p.items()}\n",
    "    reindexed_plans.append(Partition(graph, reindexed_plan, myupdaters))\n",
    "\n",
    "#pick a canonical ordering based on the mean vote shares of the neutral ensemble\n",
    "ps = [plan for j, plan in enumerate(reindexed_plans)]\n",
    "mean_vote_shares = {i:[] for i in range(k)}\n",
    "for p in ps:\n",
    "    for i, x in zip(p.parts, p[election_name].percents('Democratic')):\n",
    "        mean_vote_shares[i].append(x)\n",
    "mean_vote_shares = {\n",
    "    i: np.mean(x) for i, x in mean_vote_shares.items()\n",
    "}\n",
    "canonical_order = sorted(range(k), key = lambda x: mean_vote_shares[x])\n",
    "\n",
    "#get D vote shares\n",
    "vote_shares = []\n",
    "for p in [plan for j, plan in enumerate(reindexed_plans)]:\n",
    "    vote_shares_by_district = {\n",
    "        i: x for i, x in zip(p.parts, p[election_name].percents('Democratic'))\n",
    "    }\n",
    "    vote_shares.append(\n",
    "        [vote_shares_by_district[j] for j in canonical_order]\n",
    "    )\n",
    "\n",
    "#reindex again\n",
    "mean_to_canonical_mean = {x:i for i,x in enumerate(canonical_order)}\n",
    "reindexed_plans = []\n",
    "for p, indexing in zip(plans, I):\n",
    "    plan_to_mean = {x:i for i, x in enumerate(indexing)}\n",
    "    reindexed_plan = {x:mean_to_canonical_mean[plan_to_mean[y]] for x,y in p.items()}\n",
    "    reindexed_plans.append(Partition(graph, reindexed_plan, myupdaters))\n"
   ]
  },
  {
   "cell_type": "code",
   "execution_count": 7,
   "id": "compressed-spelling",
   "metadata": {},
   "outputs": [
    {
     "data": {
      "image/png": "[encoded data removed]",
      "text/plain": [
       "<Figure size 1080x432 with 1 Axes>"
      ]
     },
     "metadata": {
      "needs_background": "light"
     },
     "output_type": "display_data"
    }
   ],
   "source": [
    "fig, ax = plt.subplots(figsize=(15,6))\n",
    "mycmap = littlehelpers.gerrybook_cmap\n",
    "ax.boxplot(\n",
    "    [[v[x] for v in vote_shares] for x in range(k)],\n",
    "    positions=[x for x in range(k)],\n",
    "    widths=2/6,\n",
    "    sym='.',\n",
    "    manage_ticks=False\n",
    ")\n",
    "\n",
    "for d in range(k):\n",
    "    ax.axvline(\n",
    "        d,\n",
    "        c=mycmap(d),\n",
    "        linewidth=45,\n",
    "        alpha=0.5,\n",
    "        zorder=-100\n",
    "    )\n",
    "\n",
    "ax.set_ylim(0,1)\n",
    "ax.set_xticks(range(k))\n",
    "ax.set_xticklabels(range(1,k+1), fontsize=20)\n",
    "ax.axhline(0.5, linestyle='dashed', c='gray')\n",
    "plt.ylabel('Democratic share', fontsize=20)\n",
    "plt.show()"
   ]
  },
  {
   "cell_type": "markdown",
   "id": "discrete-farmer",
   "metadata": {},
   "source": [
    "## Make the combined heat map and barycenter"
   ]
  },
  {
   "cell_type": "code",
   "execution_count": 8,
   "id": "northern-samoa",
   "metadata": {},
   "outputs": [],
   "source": [
    "gdf['dummy'] = [1]*len(gdf)\n",
    "wholestate = gdf.dissolve(by='dummy')"
   ]
  },
  {
   "cell_type": "code",
   "execution_count": 9,
   "id": "modern-dealer",
   "metadata": {},
   "outputs": [
    {
     "data": {
      "image/png": "[encoded data removed]",
      "text/plain": [
       "<Figure size 432x288 with 1 Axes>"
      ]
     },
     "metadata": {
      "needs_background": "light"
     },
     "output_type": "display_data"
    }
   ],
   "source": [
    "#all together\n",
    "from matplotlib import cm\n",
    "from matplotlib.colors import ListedColormap, LinearSegmentedColormap\n",
    "mycmap = littlehelpers.gerrybook_cmap\n",
    "\n",
    "def mycmap_alpha(alpha, K):\n",
    "    R = list(mycmap(K))\n",
    "    R[-1] = alpha\n",
    "    return tuple(R)\n",
    "\n",
    "for d in range(k):    \n",
    "    mycolorarray = np.array([mycmap_alpha(a,d) for a in np.linspace(0,1,10)])    \n",
    "    newcmp = ListedColormap(mycolorarray)\n",
    "\n",
    "    in_district = np.array([0]*len(gdf))\n",
    "    for p in reindexed_plans:\n",
    "        in_district += [int(p.assignment[x]==d) for x in range(len(gdf))]\n",
    "    gdf['in'] = in_district\n",
    "    gdf.plot(column='in',cmap=newcmp, ax=plt.gca())\n",
    "    \n",
    "wholestate.boundary.plot( \n",
    "    ax=plt.gca(),\n",
    "    edgecolor='black',\n",
    "    linewidth=1,\n",
    ")\n",
    "plt.axis('off')\n",
    "plt.show()"
   ]
  },
  {
   "cell_type": "code",
   "execution_count": 10,
   "id": "expired-petersburg",
   "metadata": {},
   "outputs": [
    {
     "data": {
      "image/png": "[encoded data removed]",
      "text/plain": [
       "<Figure size 360x432 with 1 Axes>"
      ]
     },
     "metadata": {
      "needs_background": "light"
     },
     "output_type": "display_data"
    }
   ],
   "source": [
    "fig, ax = plt.subplots(figsize=(5,6))\n",
    "mycmap = littlehelpers.gerrybook_cmap\n",
    "plot_distribution_family(\n",
    "    [B[j] for j in canonical_order],\n",
    "    ax=ax, cmap=mycmap, s=10\n",
    ")\n",
    "wholestate.boundary.plot(\n",
    "    ax=ax,\n",
    "    edgecolor='black',\n",
    "    linewidth=1,\n",
    ")\n",
    "ax.axis('off')\n",
    "plt.show()"
   ]
  }
 ],
 "metadata": {
  "kernelspec": {
   "display_name": "Python 3",
   "language": "python",
   "name": "python3"
  },
  "language_info": {
   "codemirror_mode": {
    "name": "ipython",
    "version": 3
   },
   "file_extension": ".py",
   "mimetype": "text/x-python",
   "name": "python",
   "nbconvert_exporter": "python",
   "pygments_lexer": "ipython3",
   "version": "3.8.8"
  }
 },
 "nbformat": 4,
 "nbformat_minor": 5
}
